{
 "cells": [
  {
   "cell_type": "code",
   "execution_count": null,
   "metadata": {},
   "outputs": [],
   "source": [
    "import pandas as pd\n",
    "import numpy as np\n",
    "\n",
    "train = pd.read_csv('Netflix-1M_train_original.csv')\n",
    "train"
   ]
  },
  {
   "cell_type": "code",
   "execution_count": null,
   "metadata": {},
   "outputs": [],
   "source": [
    "original = np.unique(train['rating:float'].values, return_counts=True)\n",
    "original"
   ]
  },
  {
   "cell_type": "code",
   "execution_count": null,
   "metadata": {},
   "outputs": [],
   "source": []
  },
  {
   "cell_type": "code",
   "execution_count": null,
   "metadata": {},
   "outputs": [],
   "source": [
    "import re\n",
    "from collections import defaultdict\n",
    "\n",
    "def clean_title(title):\n",
    "    cleaned_title = re.sub(r'\\s\\(genre:.*\\)', '', title).strip()\n",
    "    return cleaned_title\n",
    "\n",
    "def parse_recommendations(file_path):\n",
    "    neg_to_pos = defaultdict(list)\n",
    "    with open(file_path, 'r') as file:\n",
    "        current_user = None\n",
    "        for line in file:\n",
    "            line = line.strip()\n",
    "            if line.startswith(\"LLaMA's cut recommendation for user\"):\n",
    "                current_user = int(re.search(r'user (\\d+)', line).group(1))\n",
    "            elif line.startswith('[') and current_user is not None:\n",
    "                movies = re.findall(r'<([^>]+)>', line)\n",
    "                cleaned_movies = [clean_title(movie) for movie in movies]\n",
    "                neg_to_pos[current_user].extend(cleaned_movies)\n",
    "    for user, movies in neg_to_pos.items():\n",
    "        neg_to_pos[user] = list(set(movies))\n",
    "    return dict(neg_to_pos)\n",
    "\n",
    "file_path = 'llama_distinguish_answer.txt'\n",
    "neg_to_pos = parse_recommendations(file_path)\n",
    "\n",
    "for user_id, movies in neg_to_pos.items():\n",
    "    print(f\"user_id {user_id}: {movies}\")"
   ]
  },
  {
   "cell_type": "code",
   "execution_count": null,
   "metadata": {},
   "outputs": [],
   "source": [
    "total = 0\n",
    "user_ids = list(neg_to_pos.keys())\n",
    "for user_id in user_ids:\n",
    "    total += len(neg_to_pos[user_id])\n",
    "total"
   ]
  },
  {
   "cell_type": "code",
   "execution_count": null,
   "metadata": {},
   "outputs": [],
   "source": [
    "users_id = list(neg_to_pos.keys())\n",
    "total = 0\n",
    "\n",
    "for user_id in users_id:\n",
    "    real = train[train['user_id:token']==user_id]['title:token'].values\n",
    "    augment = np.array(neg_to_pos[user_id])\n",
    "\n",
    "    difference = len(list(set(augment)-set(real)))\n",
    "\n",
    "    if difference > 0:\n",
    "        total += difference\n",
    "total"
   ]
  },
  {
   "cell_type": "code",
   "execution_count": null,
   "metadata": {},
   "outputs": [],
   "source": []
  },
  {
   "cell_type": "code",
   "execution_count": null,
   "metadata": {},
   "outputs": [],
   "source": [
    "is_target_user = train['user_id:token'].isin(neg_to_pos.keys())\n",
    "\n",
    "train['is_neg_to_pos'] = train.apply(\n",
    "    lambda row: row['title:token'] in neg_to_pos.get(row['user_id:token'], []),\n",
    "    axis=1)\n",
    "\n",
    "is_rating_2_or_3 = train['rating:float'].isin([2, 3])\n",
    "\n",
    "train.loc[is_target_user & train['is_neg_to_pos'] & is_rating_2_or_3, 'rating:float'] = 4.5\n",
    "train.loc[is_target_user & ~train['is_neg_to_pos'] & is_rating_2_or_3, 'rating:float'] = 0.5\n",
    "\n",
    "train.drop(columns='is_neg_to_pos', inplace=True)"
   ]
  },
  {
   "cell_type": "code",
   "execution_count": null,
   "metadata": {},
   "outputs": [],
   "source": []
  },
  {
   "cell_type": "code",
   "execution_count": null,
   "metadata": {},
   "outputs": [],
   "source": [
    "augment = np.unique(train['rating:float'].values, return_counts=True)\n",
    "original, augment"
   ]
  },
  {
   "cell_type": "code",
   "execution_count": null,
   "metadata": {},
   "outputs": [],
   "source": [
    "augment[1][-2] / (augment[1][0] + augment[1][-2])"
   ]
  },
  {
   "cell_type": "code",
   "execution_count": null,
   "metadata": {},
   "outputs": [],
   "source": [
    "np.sum(augment[1][4:])"
   ]
  },
  {
   "cell_type": "code",
   "execution_count": null,
   "metadata": {},
   "outputs": [],
   "source": []
  },
  {
   "cell_type": "code",
   "execution_count": null,
   "metadata": {},
   "outputs": [],
   "source": [
    "train.to_csv('Netflix-1M_train_augment.csv', index=False)"
   ]
  },
  {
   "cell_type": "code",
   "execution_count": null,
   "metadata": {},
   "outputs": [],
   "source": []
  }
 ],
 "metadata": {
  "kernelspec": {
   "display_name": "separate",
   "language": "python",
   "name": "python3"
  },
  "language_info": {
   "codemirror_mode": {
    "name": "ipython",
    "version": 3
   },
   "file_extension": ".py",
   "mimetype": "text/x-python",
   "name": "python",
   "nbconvert_exporter": "python",
   "pygments_lexer": "ipython3",
   "version": "3.9.20"
  }
 },
 "nbformat": 4,
 "nbformat_minor": 2
}
