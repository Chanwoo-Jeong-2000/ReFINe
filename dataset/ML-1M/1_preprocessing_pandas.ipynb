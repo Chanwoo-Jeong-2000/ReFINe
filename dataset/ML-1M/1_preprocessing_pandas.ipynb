{
 "cells": [
  {
   "cell_type": "code",
   "execution_count": null,
   "metadata": {},
   "outputs": [],
   "source": [
    "import pandas as pd\n",
    "\n",
    "inter = pd.read_csv('ml-1m.inter', sep='\\t')\n",
    "item = pd.read_csv('ml-1m.item', sep='\\t')"
   ]
  },
  {
   "cell_type": "code",
   "execution_count": null,
   "metadata": {},
   "outputs": [],
   "source": [
    "inter"
   ]
  },
  {
   "cell_type": "code",
   "execution_count": null,
   "metadata": {},
   "outputs": [],
   "source": [
    "item"
   ]
  },
  {
   "cell_type": "code",
   "execution_count": null,
   "metadata": {},
   "outputs": [],
   "source": [
    "df = inter.merge(item, on='item_id:token', how='left')\n",
    "df.dropna(subset=['user_id:token', 'item_id:token', 'rating:float', 'movie_title:token_seq', 'release_year:token', 'genre:token_seq'], inplace=True)\n",
    "df"
   ]
  },
  {
   "cell_type": "code",
   "execution_count": null,
   "metadata": {},
   "outputs": [],
   "source": [
    "import numpy as np\n",
    "\n",
    "rating = np.unique(df['rating:float'].values, return_counts=True)\n",
    "rating"
   ]
  },
  {
   "cell_type": "code",
   "execution_count": null,
   "metadata": {},
   "outputs": [],
   "source": [
    "np.sum(rating[1][:3]) / np.sum(rating[1])"
   ]
  },
  {
   "cell_type": "code",
   "execution_count": null,
   "metadata": {},
   "outputs": [],
   "source": []
  },
  {
   "cell_type": "code",
   "execution_count": null,
   "metadata": {},
   "outputs": [],
   "source": [
    "df"
   ]
  },
  {
   "cell_type": "code",
   "execution_count": null,
   "metadata": {},
   "outputs": [],
   "source": []
  },
  {
   "cell_type": "code",
   "execution_count": null,
   "metadata": {},
   "outputs": [],
   "source": [
    "import pandas as pd\n",
    "\n",
    "def get_count(tp, id):\n",
    "    playcount_groupbyid = tp.groupby(id).size().reset_index(name='count')\n",
    "    return playcount_groupbyid\n",
    "\n",
    "def filter_triplets(tp, min_uc=5, min_sc=0):\n",
    "    if min_sc > 0:\n",
    "        itemcount = get_count(tp, 'item_id:token')\n",
    "        tp = tp[tp['item_id:token'].isin(itemcount['item_id:token'][itemcount['count'] >= min_sc])]\n",
    "    \n",
    "    if min_uc > 0:\n",
    "        usercount = get_count(tp, 'user_id:token')\n",
    "        tp = tp[tp['user_id:token'].isin(usercount['user_id:token'][usercount['count'] >= min_uc])]\n",
    "    \n",
    "    usercount, itemcount = get_count(tp, 'user_id:token'), get_count(tp, 'item_id:token') \n",
    "    return tp, usercount, itemcount"
   ]
  },
  {
   "cell_type": "code",
   "execution_count": null,
   "metadata": {},
   "outputs": [],
   "source": [
    "prev_shape = -1\n",
    "current_shape = df.shape[0]\n",
    "\n",
    "while current_shape != prev_shape:\n",
    "    df_pos = df[df['rating:float'] >= 4]\n",
    "    df_neg = df[df['rating:float'] < 4]\n",
    "    prev_shape = current_shape\n",
    "    df_pos, user_activity, item_popularity = filter_triplets(df_pos, 5, 5)\n",
    "    df = pd.concat([df_pos, df_neg])\n",
    "    df, user_activity, item_popularity = filter_triplets(df, 5, 5)\n",
    "    current_shape = df.shape[0]\n",
    "\n",
    "sparsity = 1. * df.shape[0] / (user_activity.shape[0] * item_popularity.shape[0])\n",
    "print(\"After filtering, there are %d watching events from %d users and %d movies (sparsity: %.3f%%)\" % \n",
    "    (df.shape[0], user_activity.shape[0], item_popularity.shape[0], sparsity * 100))"
   ]
  },
  {
   "cell_type": "code",
   "execution_count": null,
   "metadata": {},
   "outputs": [],
   "source": [
    "rating = np.unique(df['rating:float'].values, return_counts=True)\n",
    "np.sum(rating[1][:3]) / np.sum(rating[1])"
   ]
  },
  {
   "cell_type": "code",
   "execution_count": null,
   "metadata": {},
   "outputs": [],
   "source": []
  },
  {
   "cell_type": "code",
   "execution_count": null,
   "metadata": {},
   "outputs": [],
   "source": [
    "exist_user = np.unique(df_pos['user_id:token'].values)\n",
    "exist_item = np.unique(df_pos['item_id:token'].values)\n",
    "\n",
    "exist_user, len(exist_user), exist_item, len(exist_item)"
   ]
  },
  {
   "cell_type": "code",
   "execution_count": null,
   "metadata": {},
   "outputs": [],
   "source": []
  },
  {
   "cell_type": "code",
   "execution_count": null,
   "metadata": {},
   "outputs": [],
   "source": [
    "df_neg"
   ]
  },
  {
   "cell_type": "code",
   "execution_count": null,
   "metadata": {},
   "outputs": [],
   "source": [
    "df_neg = df_neg[df_neg['user_id:token'].isin(exist_user)]\n",
    "df_neg = df_neg[df_neg['item_id:token'].isin(exist_item)]\n",
    "df_neg"
   ]
  },
  {
   "cell_type": "code",
   "execution_count": null,
   "metadata": {},
   "outputs": [],
   "source": []
  },
  {
   "cell_type": "code",
   "execution_count": null,
   "metadata": {},
   "outputs": [],
   "source": [
    "df_pos"
   ]
  },
  {
   "cell_type": "code",
   "execution_count": null,
   "metadata": {},
   "outputs": [],
   "source": [
    "import sys\n",
    "\n",
    "def split_train_val_test(data, val_prop=0.1, test_prop=0.2):\n",
    "    data_grouped_by_user = data.groupby('user_id:token')\n",
    "    tr_list, val_list, te_list = [], [], []\n",
    "\n",
    "    np.random.seed(2024)\n",
    "\n",
    "    for i, (_, group) in enumerate(data_grouped_by_user):\n",
    "        n_items_u = len(group)\n",
    "        \n",
    "        if n_items_u >= 5:\n",
    "            indices = np.random.permutation(n_items_u)\n",
    "            test_size = int(test_prop * n_items_u)\n",
    "            val_size = int(val_prop * n_items_u)\n",
    "\n",
    "            test_indices = indices[:test_size]\n",
    "            val_indices = indices[test_size:test_size+val_size]\n",
    "            train_indices = indices[test_size+val_size:]\n",
    "\n",
    "            train_mask = np.zeros(n_items_u, dtype=bool)\n",
    "            train_mask[train_indices] = True\n",
    "            val_mask = np.zeros(n_items_u, dtype=bool)\n",
    "            val_mask[val_indices] = True\n",
    "            test_mask = np.zeros(n_items_u, dtype=bool)\n",
    "            test_mask[test_indices] = True\n",
    "\n",
    "            tr_list.append(group[train_mask])\n",
    "            val_list.append(group[val_mask])\n",
    "            te_list.append(group[test_mask])\n",
    "        else:\n",
    "            print('else')\n",
    "            tr_list.append(group)\n",
    "\n",
    "        if i % 100 == 0:\n",
    "            print(\"%d users sampled\" % i)\n",
    "            sys.stdout.flush()\n",
    "\n",
    "    print('split done!')\n",
    "\n",
    "    data_tr = pd.concat(tr_list)\n",
    "    data_val = pd.concat(val_list)\n",
    "    data_te = pd.concat(te_list)\n",
    "\n",
    "    return data_tr, data_val, data_te\n",
    "\n",
    "\n",
    "tr, va, te = split_train_val_test(df_pos)"
   ]
  },
  {
   "cell_type": "code",
   "execution_count": null,
   "metadata": {},
   "outputs": [],
   "source": [
    "tr"
   ]
  },
  {
   "cell_type": "code",
   "execution_count": null,
   "metadata": {},
   "outputs": [],
   "source": [
    "va"
   ]
  },
  {
   "cell_type": "code",
   "execution_count": null,
   "metadata": {},
   "outputs": [],
   "source": [
    "te"
   ]
  },
  {
   "cell_type": "code",
   "execution_count": null,
   "metadata": {},
   "outputs": [],
   "source": [
    "len(tr) / (len(tr)+len(va)+len(te)), len(va) / (len(tr)+len(va)+len(te)), len(te) / (len(tr)+len(va)+len(te))"
   ]
  },
  {
   "cell_type": "code",
   "execution_count": null,
   "metadata": {},
   "outputs": [],
   "source": [
    "len(np.unique(tr['user_id:token'])), len(np.unique(tr['item_id:token']))"
   ]
  },
  {
   "cell_type": "code",
   "execution_count": null,
   "metadata": {},
   "outputs": [],
   "source": [
    "len(np.unique(va['user_id:token'])), len(np.unique(va['item_id:token']))"
   ]
  },
  {
   "cell_type": "code",
   "execution_count": null,
   "metadata": {},
   "outputs": [],
   "source": [
    "len(np.unique(te['user_id:token'])), len(np.unique(te['item_id:token']))"
   ]
  },
  {
   "cell_type": "code",
   "execution_count": null,
   "metadata": {},
   "outputs": [],
   "source": [
    "va[~va['item_id:token'].isin(tr['item_id:token'].values)]\n",
    "#va[va['item_id:token'].isin(~tr['item_id:token'].values)] # tr에 없는 item_id가 va, te에 있으면 안 됨."
   ]
  },
  {
   "cell_type": "code",
   "execution_count": null,
   "metadata": {},
   "outputs": [],
   "source": [
    "te[~te['item_id:token'].isin(tr['item_id:token'].values)]\n",
    "#te[te['item_id:token'].isin(~tr['item_id:token'].values)] # tr에 없는 item_id가 va, te에 있으면 안 됨."
   ]
  },
  {
   "cell_type": "code",
   "execution_count": null,
   "metadata": {},
   "outputs": [],
   "source": []
  },
  {
   "cell_type": "code",
   "execution_count": null,
   "metadata": {},
   "outputs": [],
   "source": [
    "tr"
   ]
  },
  {
   "cell_type": "code",
   "execution_count": null,
   "metadata": {},
   "outputs": [],
   "source": [
    "df_neg"
   ]
  },
  {
   "cell_type": "code",
   "execution_count": null,
   "metadata": {},
   "outputs": [],
   "source": [
    "len(df_neg) / (len(tr)+len(df_neg))"
   ]
  },
  {
   "cell_type": "code",
   "execution_count": null,
   "metadata": {},
   "outputs": [],
   "source": [
    "tr_plus_neg = pd.concat([tr, df_neg], ignore_index=True)\n",
    "tr_plus_neg"
   ]
  },
  {
   "cell_type": "code",
   "execution_count": null,
   "metadata": {},
   "outputs": [],
   "source": []
  },
  {
   "cell_type": "code",
   "execution_count": null,
   "metadata": {},
   "outputs": [],
   "source": [
    "tr_plus_neg.to_csv('ML-1M_train_original.csv', index=False)"
   ]
  },
  {
   "cell_type": "code",
   "execution_count": null,
   "metadata": {},
   "outputs": [],
   "source": [
    "va.to_csv('ML-1M_validation.csv', index=False)"
   ]
  },
  {
   "cell_type": "code",
   "execution_count": null,
   "metadata": {},
   "outputs": [],
   "source": [
    "te.to_csv('ML-1M_test.csv', index=False)"
   ]
  },
  {
   "cell_type": "code",
   "execution_count": null,
   "metadata": {},
   "outputs": [],
   "source": []
  },
  {
   "cell_type": "code",
   "execution_count": null,
   "metadata": {},
   "outputs": [],
   "source": [
    "train = pd.read_csv('ML-1M_train_original.csv')\n",
    "valid = pd.read_csv('ML-1M_validation.csv')\n",
    "test = pd.read_csv('ML-1M_test.csv')"
   ]
  },
  {
   "cell_type": "code",
   "execution_count": null,
   "metadata": {},
   "outputs": [],
   "source": [
    "df = pd.concat([train,valid,test])\n",
    "df"
   ]
  },
  {
   "cell_type": "code",
   "execution_count": null,
   "metadata": {},
   "outputs": [],
   "source": [
    "u = len(np.unique(df['user_id:token'].values))\n",
    "i = len(np.unique(df['item_id:token'].values))\n",
    "e = len(df)\n",
    "\n",
    "u, i, e"
   ]
  },
  {
   "cell_type": "code",
   "execution_count": null,
   "metadata": {},
   "outputs": [],
   "source": [
    "print('%.4f' % (e / (u * i)))"
   ]
  },
  {
   "cell_type": "code",
   "execution_count": null,
   "metadata": {},
   "outputs": [],
   "source": [
    "pos = df[df['rating:float'] >= 4]\n",
    "neg  = df[df['rating:float'] < 4]\n",
    "\n",
    "p = len(pos)\n",
    "n = len(neg)\n",
    "\n",
    "p, n"
   ]
  },
  {
   "cell_type": "code",
   "execution_count": null,
   "metadata": {},
   "outputs": [],
   "source": [
    "print('%.2f:%.2f' %(p/(p+n), n/(p+n)))"
   ]
  },
  {
   "cell_type": "code",
   "execution_count": null,
   "metadata": {},
   "outputs": [],
   "source": [
    "print('1:%.2f' %(n / p))"
   ]
  }
 ],
 "metadata": {
  "kernelspec": {
   "display_name": "separate",
   "language": "python",
   "name": "python3"
  },
  "language_info": {
   "codemirror_mode": {
    "name": "ipython",
    "version": 3
   },
   "file_extension": ".py",
   "mimetype": "text/x-python",
   "name": "python",
   "nbconvert_exporter": "python",
   "pygments_lexer": "ipython3",
   "version": "3.9.20"
  }
 },
 "nbformat": 4,
 "nbformat_minor": 2
}
